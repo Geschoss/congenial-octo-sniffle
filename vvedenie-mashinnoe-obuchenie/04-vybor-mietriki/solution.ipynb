{
 "cells": [
  {
   "cell_type": "code",
   "execution_count": 1,
   "source": [
    "from sklearn.datasets import load_boston\n",
    "\n",
    "boston = load_boston();"
   ],
   "outputs": [],
   "metadata": {}
  },
  {
   "cell_type": "code",
   "execution_count": 9,
   "source": [
    "boston_data_X = boston[\"data\"];\n",
    "boston_target_y = boston[\"target\"]"
   ],
   "outputs": [],
   "metadata": {}
  },
  {
   "cell_type": "code",
   "execution_count": 14,
   "source": [
    "from sklearn.preprocessing import scale\n",
    "\n",
    "boston_data_X = scale(boston_data_X)"
   ],
   "outputs": [],
   "metadata": {}
  },
  {
   "cell_type": "code",
   "execution_count": 19,
   "source": [
    "from sklearn.model_selection import KFold\n",
    "kf = KFold(n_splits=5, shuffle = True, random_state = 42)"
   ],
   "outputs": [],
   "metadata": {}
  },
  {
   "cell_type": "code",
   "execution_count": 21,
   "source": [
    "import numpy as np\n",
    "p_array = np.linspace(1, 10, 200)"
   ],
   "outputs": [],
   "metadata": {}
  },
  {
   "cell_type": "code",
   "execution_count": 33,
   "source": [
    "from sklearn.neighbors import KNeighborsRegressor\n",
    "from sklearn.model_selection import cross_val_score\n",
    "\n",
    "scores = []\n",
    "\n",
    "\n",
    "for p in p_array:\n",
    "    scores.append(\n",
    "        cross_val_score(\n",
    "            estimator=KNeighborsRegressor(\n",
    "                n_neighbors=5,\n",
    "                weights='distance',\n",
    "                metric='minkowski',\n",
    "                p=p),\n",
    "            X=boston_data_X,\n",
    "            y=boston_target_y,\n",
    "            cv=kf,\n",
    "            scoring='neg_mean_squared_error'))\n"
   ],
   "outputs": [],
   "metadata": {}
  },
  {
   "cell_type": "code",
   "execution_count": 34,
   "source": [
    "scores[:5]"
   ],
   "outputs": [
    {
     "output_type": "execute_result",
     "data": {
      "text/plain": [
       "[array([-20.21899107, -12.49567191, -17.22129105, -11.83373336,\n",
       "        -18.38354627]),\n",
       " array([-20.22607648, -12.57429075, -17.43647464, -12.07494178,\n",
       "        -19.72740989]),\n",
       " array([-20.13329413, -12.65479751, -17.68764499, -11.92277511,\n",
       "        -19.45497299]),\n",
       " array([-20.20518452, -12.96135285, -17.65835017, -11.91533174,\n",
       "        -19.48836227]),\n",
       " array([-19.93196196, -12.90136373, -18.02078301, -11.95450061,\n",
       "        -19.56667956])]"
      ]
     },
     "metadata": {},
     "execution_count": 34
    }
   ],
   "metadata": {}
  },
  {
   "cell_type": "code",
   "execution_count": 38,
   "source": [
    "scores_mean = np.mean(scores, axis=1)\n",
    "scores_mean[:5]"
   ],
   "outputs": [
    {
     "output_type": "execute_result",
     "data": {
      "text/plain": [
       "array([-16.03064673, -16.40783871, -16.37069695, -16.44571631,\n",
       "       -16.47505777])"
      ]
     },
     "metadata": {},
     "execution_count": 38
    }
   ],
   "metadata": {}
  },
  {
   "cell_type": "code",
   "execution_count": 39,
   "source": [
    "np.max(scores_mean)\n",
    "scores_mean[:5]"
   ],
   "outputs": [
    {
     "output_type": "execute_result",
     "data": {
      "text/plain": [
       "array([-16.03064673, -16.40783871, -16.37069695, -16.44571631,\n",
       "       -16.47505777])"
      ]
     },
     "metadata": {},
     "execution_count": 39
    }
   ],
   "metadata": {}
  },
  {
   "cell_type": "code",
   "execution_count": 37,
   "source": [
    "p_array[np.argmax(scores_mean)]"
   ],
   "outputs": [
    {
     "output_type": "execute_result",
     "data": {
      "text/plain": [
       "1.0"
      ]
     },
     "metadata": {},
     "execution_count": 37
    }
   ],
   "metadata": {}
  }
 ],
 "metadata": {
  "orig_nbformat": 4,
  "language_info": {
   "name": "python"
  }
 },
 "nbformat": 4,
 "nbformat_minor": 2
}